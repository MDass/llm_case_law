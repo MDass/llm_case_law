{
 "cells": [
  {
   "cell_type": "code",
   "execution_count": 36,
   "metadata": {},
   "outputs": [],
   "source": [
    "# Inspiration: https://www.databricks.com/blog/LLM-auto-eval-best-practices-RAG"
   ]
  },
  {
   "cell_type": "code",
   "execution_count": 37,
   "metadata": {},
   "outputs": [],
   "source": [
    "import os\n",
    "from dotenv import load_dotenv\n",
    "from openai import OpenAI\n",
    "import pickle\n",
    "from statistics import mean"
   ]
  },
  {
   "cell_type": "code",
   "execution_count": null,
   "metadata": {},
   "outputs": [],
   "source": [
    "BREADTH_EVAL_PROMPT = \"\"\"\n",
    "Please act as an impartial judge and evaluate the quality of the provided answer which attempts to answer the provided question based on a provided context.\n",
    "\n",
    "What percentage of the key details in the INITIAL SUMMARY is captured by the FINAL SUMMARY? Note that not all information present in INITAL SUMMARY must be in FINAL SUMMARY. Justify the percentage. Format responses in the following way:\n",
    "SCORE: [percentage]\n",
    "JUSTIFICATION: [justification]\n",
    "\n",
    "\"\"\"\n",
    "\n",
    "load_dotenv()"
   ]
  },
  {
   "cell_type": "code",
   "execution_count": 40,
   "metadata": {},
   "outputs": [
    {
     "name": "stdout",
     "output_type": "stream",
     "text": [
      "{\"Past cases indicate that when arguing against a technology company, key concerns include establishing Article III standing and demonstrating a statutory injury. It has been found that an invasion of privacy alone is insufficient to meet the statutory injury requirements. In the case of Jones v. Ford Motor Company, the court dismissed a class action because the plaintiffs failed to plead a statutory injury under the Washington Privacy Act (WPA). The court emphasized that the WPA requires an injury to one's business, person, or reputation, and an invasion of privacy alone is not enough. This ruling is consistent with other cases in the circuit, such as Brinkley v. Monterey Fin. Servs., LLC. Therefore, it is crucial to carefully analyze the specific statutory requirements and establish a concrete injury to successfully argue against a technology company. The cases cited, Jones v. Ford Motor Company and Brinkley v. Monterey Fin. Servs., LLC, are relevant to the user's query as they provide examples of how the courts have interpreted and applied the statutory injury requirement in cases involving technology companies.\": [\"RESPONSE: When arguing against a technology company, key concerns include establishing Article III standing and demonstrating a statutory injury. Past cases indicate that an invasion of privacy, without more, is insufficient to meet the statutory injury requirements. In the case of Jones v. Ford Motor Company, the court dismissed the class action because the plaintiffs failed to plead a statutory injury under the Washington Privacy Act (WPA). The court emphasized that the WPA requires an injury to one's business, person, or reputation, and an invasion of privacy alone is not enough. This ruling is consistent with other cases in the circuit, such as Brinkley v. Monterey Fin. Servs., LLC. Therefore, it is crucial to carefully analyze the specific statutory requirements and establish a concrete injury to successfully argue against a technology company.\\nSOURCE: Jones v. Ford Motor Company, Brinkley v. Monterey Fin. Servs., LLC\", 'RESPONSE: When arguing against a company in a case, it is important to consider key concerns based on past cases. One important consideration is the determination of party status. In the case of Habelt v. IRhythm Technologies, Inc., it was found that party status does not depend on the timing of involvement in the litigation, but rather on being a party against whom a lawsuit is brought. This interpretation is consistent with the requirement that federal suits be maintained in the name of the real party in interest. Another concern is the preclusive effect of a prior judgment, which is typically determined by the subsequent court. It is possible that a nonparty may be barred from pursuing a separate lawsuit based on the judgment of the district court. Additionally, the statute of limitations may impact the ability to pursue claims against a company. If claims are time-barred, it may limit the options for legal action. These concerns should be carefully considered when arguing against a company in a case.\\n\\nSOURCE: Habelt v. IRhythm Technologies, Inc., 22-15660, San Francisco District Court, Judge H.A. Thomas, Civil, 10/11/2023']}\n"
     ]
    }
   ],
   "source": [
    "responses = []\n",
    "with open('generated_responses.pickle', 'rb') as handle:\n",
    "    responses = pickle.load(handle)"
   ]
  },
  {
   "cell_type": "code",
   "execution_count": 42,
   "metadata": {},
   "outputs": [
    {
     "name": "stdout",
     "output_type": "stream",
     "text": [
      "60\n"
     ]
    }
   ],
   "source": [
    "client = OpenAI(api_key=os.getenv(\"OPEN_AI_KEY\"))\n",
    "\n",
    "for final_response in responses:\n",
    "    curr_response_scores = []\n",
    "    for summary in responses[final_response]:\n",
    "        if 'NO RESPONSE' in summary:\n",
    "            continue\n",
    "        prompt = f\"\"\"TASK: {BREADTH_EVAL_PROMPT}\n",
    "        \n",
    "        INITIAL SUMMARY: {summary}\n",
    "        FINAL SUMMARY: {final_response}\n",
    "        \"\"\"\n",
    "    \n",
    "        messages = []\n",
    "\n",
    "        messages.append({\"role\": \"user\", \"content\": prompt})\n",
    "        response = client.chat.completions.create(\n",
    "            model=\"gpt-3.5-turbo\",\n",
    "            messages=messages\n",
    "            )\n",
    "        chat_message = response.choices[0].message.content\n",
    "        curr_score = chat_message[chat_message.index(\"SCORE: \") + 7: chat_message.index(\"%\")]\n",
    "        curr_response_scores.append(int(curr_score))\n",
    "    print(final_response)\n",
    "    print(mean(curr_response_scores))\n",
    "    print(\"------\")"
   ]
  }
 ],
 "metadata": {
  "kernelspec": {
   "display_name": "Python 3",
   "language": "python",
   "name": "python3"
  },
  "language_info": {
   "codemirror_mode": {
    "name": "ipython",
    "version": 3
   },
   "file_extension": ".py",
   "mimetype": "text/x-python",
   "name": "python",
   "nbconvert_exporter": "python",
   "pygments_lexer": "ipython3",
   "version": "3.11.5"
  },
  "orig_nbformat": 4
 },
 "nbformat": 4,
 "nbformat_minor": 2
}
